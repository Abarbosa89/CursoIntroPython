{
 "cells": [
  {
   "cell_type": "markdown",
   "metadata": {},
   "source": [
    "### MODULO 10\n",
    "#### Manejo Errores"
   ]
  },
  {
   "cell_type": "code",
   "execution_count": 6,
   "metadata": {},
   "outputs": [
    {
     "name": "stdout",
     "output_type": "stream",
     "text": [
      "The arguments mus be of type int\n"
     ]
    }
   ],
   "source": [
    "def water_left(astronauts, water_left, days_left):\n",
    "    try: \n",
    "        daily_usage = astronauts * 11\n",
    "        total_usage = daily_usage * days_left\n",
    "        total_water_left = water_left - total_usage\n",
    "        if total_water_left < 0:\n",
    "            raise RuntimeError(f\"There is not enough water for {astronauts} astronauts after {days_left} days!\")\n",
    "        return f\"Total water left after {days_left} days is: {total_water_left} liters\"\n",
    "    except RuntimeError as err: \n",
    "        print(\"ALERT!!!! Not have water\")\n",
    "    except TypeError as err: \n",
    "        print(f\"The arguments mus be of type int\")\n",
    "\n",
    "water_left('5',\"40\",2)"
   ]
  }
 ],
 "metadata": {
  "interpreter": {
   "hash": "31335f032002e80ac5a8130d2e8ca4716859239a03461facbeaebe8b27a8502e"
  },
  "kernelspec": {
   "display_name": "Python 3.10.2 64-bit",
   "language": "python",
   "name": "python3"
  },
  "language_info": {
   "codemirror_mode": {
    "name": "ipython",
    "version": 3
   },
   "file_extension": ".py",
   "mimetype": "text/x-python",
   "name": "python",
   "nbconvert_exporter": "python",
   "pygments_lexer": "ipython3",
   "version": "3.10.2"
  },
  "orig_nbformat": 4
 },
 "nbformat": 4,
 "nbformat_minor": 2
}
